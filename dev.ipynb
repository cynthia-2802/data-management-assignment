{
 "cells": [
  {
   "cell_type": "code",
   "execution_count": 19,
   "metadata": {},
   "outputs": [
    {
     "data": {
      "text/plain": [
       "True"
      ]
     },
     "execution_count": 19,
     "metadata": {},
     "output_type": "execute_result"
    }
   ],
   "source": [
    "import os\n",
    "\n",
    "import httpx\n",
    "from dotenv import load_dotenv\n",
    "\n",
    "load_dotenv()\n"
   ]
  },
  {
   "cell_type": "code",
   "execution_count": 20,
   "metadata": {},
   "outputs": [],
   "source": [
    "api_token = os.getenv(\"API_TOKEN\")\n",
    "url = \"https://api.themoviedb.org/3/trending/movie/week?language=en-US&page=1\"\n",
    "\n",
    "headers = {\n",
    "    \"accept\": \"application/json\",\n",
    "    \"Authorization\": f\"Bearer {api_token}\"\n",
    "}\n",
    "\n",
    "response = httpx.get(url, headers=headers)\n",
    "trending_movie_data = response.json()"
   ]
  },
  {
   "cell_type": "code",
   "execution_count": 21,
   "metadata": {},
   "outputs": [
    {
     "data": {
      "text/plain": [
       "dict_keys(['page', 'results', 'total_pages', 'total_results'])"
      ]
     },
     "execution_count": 21,
     "metadata": {},
     "output_type": "execute_result"
    }
   ],
   "source": [
    "trending_movie_data.keys()"
   ]
  },
  {
   "cell_type": "code",
   "execution_count": 22,
   "metadata": {},
   "outputs": [
    {
     "name": "stdout",
     "output_type": "stream",
     "text": [
      "1\n",
      "1000\n",
      "20000\n",
      "<class 'list'>\n"
     ]
    }
   ],
   "source": [
    "print(trending_movie_data[\"page\"])\n",
    "print(trending_movie_data[\"total_pages\"])\n",
    "print(trending_movie_data[\"total_results\"])\n",
    "print(type(trending_movie_data[\"results\"]))"
   ]
  },
  {
   "cell_type": "code",
   "execution_count": 28,
   "metadata": {},
   "outputs": [],
   "source": [
    "def print_data_type(data: dict) -> None:\n",
    "    for k, v in data.items():\n",
    "        print(k, ' ', v)"
   ]
  },
  {
   "cell_type": "code",
   "execution_count": 23,
   "metadata": {},
   "outputs": [
    {
     "data": {
      "text/plain": [
       "[{'backdrop_path': '/9SSEUrSqhljBMzRe4aBTh17rUaC.jpg',\n",
       "  'id': 945961,\n",
       "  'title': 'Alien: Romulus',\n",
       "  'original_title': 'Alien: Romulus',\n",
       "  'overview': 'While scavenging the deep ends of a derelict space station, a group of young space colonizers come face to face with the most terrifying life form in the universe.',\n",
       "  'poster_path': '/b33nnKl1GSFbao4l3fZDDqsMx0F.jpg',\n",
       "  'media_type': 'movie',\n",
       "  'adult': False,\n",
       "  'original_language': 'en',\n",
       "  'genre_ids': [878, 27, 28],\n",
       "  'popularity': 1658.002,\n",
       "  'release_date': '2024-08-13',\n",
       "  'video': False,\n",
       "  'vote_average': 7.2,\n",
       "  'vote_count': 1445}]"
      ]
     },
     "execution_count": 23,
     "metadata": {},
     "output_type": "execute_result"
    }
   ],
   "source": [
    "trending_movie_data[\"results\"][:1]"
   ]
  },
  {
   "cell_type": "code",
   "execution_count": 29,
   "metadata": {},
   "outputs": [],
   "source": [
    "print_data_type(trending_movie_data[\"results\"][0])"
   ]
  },
  {
   "cell_type": "code",
   "execution_count": 24,
   "metadata": {},
   "outputs": [],
   "source": [
    "url = \"https://api.themoviedb.org/3/trending/person/day?language=en-US&page=1\"\n",
    "response = httpx.get(url, headers=headers)\n",
    "trending_people_data = response.json()"
   ]
  },
  {
   "cell_type": "code",
   "execution_count": 25,
   "metadata": {},
   "outputs": [
    {
     "data": {
      "text/plain": [
       "dict_keys(['page', 'results', 'total_pages', 'total_results'])"
      ]
     },
     "execution_count": 25,
     "metadata": {},
     "output_type": "execute_result"
    }
   ],
   "source": [
    "trending_people_data.keys()"
   ]
  },
  {
   "cell_type": "code",
   "execution_count": 26,
   "metadata": {},
   "outputs": [
    {
     "name": "stdout",
     "output_type": "stream",
     "text": [
      "1\n",
      "1000\n",
      "20000\n",
      "<class 'list'>\n"
     ]
    }
   ],
   "source": [
    "print(trending_people_data[\"page\"])\n",
    "print(trending_people_data[\"total_pages\"])\n",
    "print(trending_people_data[\"total_results\"])\n",
    "print(type(trending_people_data[\"results\"]))"
   ]
  },
  {
   "cell_type": "code",
   "execution_count": 27,
   "metadata": {},
   "outputs": [
    {
     "data": {
      "text/plain": [
       "[{'id': 4784220,\n",
       "  'name': 'Lisandru Olmeta',\n",
       "  'original_name': 'Lisandru Olmeta',\n",
       "  'media_type': 'person',\n",
       "  'adult': False,\n",
       "  'popularity': 0.001,\n",
       "  'gender': 0,\n",
       "  'known_for_department': 'Lighting',\n",
       "  'profile_path': None,\n",
       "  'known_for': [{'backdrop_path': None,\n",
       "    'id': 1306693,\n",
       "    'title': 'Verte',\n",
       "    'original_title': 'Verte ou la Fille du Deuxième Etage',\n",
       "    'overview': 'Ben, a young insecure man, meets his new neighbor, who he suspects being a witch.',\n",
       "    'poster_path': '/7ZJ85L0lfyufYFXWVpzSTSxCFjS.jpg',\n",
       "    'media_type': 'movie',\n",
       "    'adult': False,\n",
       "    'original_language': 'fr',\n",
       "    'genre_ids': [35, 27],\n",
       "    'popularity': 0.871,\n",
       "    'release_date': '2024-06-21',\n",
       "    'video': False,\n",
       "    'vote_average': 0.0,\n",
       "    'vote_count': 0}]}]"
      ]
     },
     "execution_count": 27,
     "metadata": {},
     "output_type": "execute_result"
    }
   ],
   "source": [
    "trending_people_data[\"results\"][:1]"
   ]
  }
 ],
 "metadata": {
  "kernelspec": {
   "display_name": "data-management-assignment",
   "language": "python",
   "name": "data-management-assignment"
  },
  "language_info": {
   "codemirror_mode": {
    "name": "ipython",
    "version": 3
   },
   "file_extension": ".py",
   "mimetype": "text/x-python",
   "name": "python",
   "nbconvert_exporter": "python",
   "pygments_lexer": "ipython3",
   "version": "3.12.1"
  }
 },
 "nbformat": 4,
 "nbformat_minor": 2
}
